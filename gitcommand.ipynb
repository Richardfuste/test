{
 "cells": [
  {
   "cell_type": "code",
   "execution_count": 3,
   "metadata": {},
   "outputs": [
    {
     "name": "stdout",
     "output_type": "stream",
     "text": [
      "git version 2.41.0.windows.1\n"
     ]
    }
   ],
   "source": [
    "! git -v"
   ]
  },
  {
   "cell_type": "code",
   "execution_count": 2,
   "metadata": {},
   "outputs": [
    {
     "name": "stderr",
     "output_type": "stream",
     "text": [
      "Hi Richardfuste! You've successfully authenticated, but GitHub does not provide shell access.\n"
     ]
    }
   ],
   "source": [
    "! ssh -T git@github.com\n"
   ]
  },
  {
   "cell_type": "code",
   "execution_count": 8,
   "metadata": {
    "vscode": {
     "languageId": "shellscript"
    }
   },
   "outputs": [
    {
     "name": "stdout",
     "output_type": "stream",
     "text": [
      "* branch1\n",
      "  branch2\n",
      "  master\n",
      "  remotes/origin/HEAD -> origin/master\n",
      "  remotes/origin/branch1\n",
      "  remotes/origin/master\n",
      "Your branch is up to date with 'origin/master'.\n"
     ]
    },
    {
     "name": "stderr",
     "output_type": "stream",
     "text": [
      "Switched to branch 'master'\n",
      "Switched to branch 'branch1'\n"
     ]
    },
    {
     "name": "stdout",
     "output_type": "stream",
     "text": [
      "Your branch is up to date with 'origin/branch1'.\n"
     ]
    },
    {
     "name": "stderr",
     "output_type": "stream",
     "text": [
      "fatal: a branch named 'branch2' already exists\n",
      "remote: \n",
      "remote: Create a pull request for 'branch2' on GitHub by visiting:        \n",
      "remote:      https://github.com/Richardfuste/test/pull/new/branch2        \n",
      "remote: \n",
      "To https://github.com/Richardfuste/test.git\n",
      " * [new branch]      branch2 -> branch2\n"
     ]
    },
    {
     "name": "stdout",
     "output_type": "stream",
     "text": [
      "* branch1\n",
      "  branch2\n",
      "  master\n",
      "  remotes/origin/HEAD -> origin/master\n",
      "  remotes/origin/branch1\n",
      "  remotes/origin/branch2\n",
      "  remotes/origin/master\n"
     ]
    }
   ],
   "source": [
    "# 查看本地和远程分支\n",
    "! git branch -a\n",
    "#切换分支\n",
    "! git checkout master\n",
    "! git checkout branch1\n",
    "\n",
    "#创建分支\n",
    "! git branch branch2\n",
    "\n",
    "! git push origin branch2\n",
    "! git branch -a"
   ]
  },
  {
   "cell_type": "code",
   "execution_count": 9,
   "metadata": {
    "vscode": {
     "languageId": "shellscript"
    }
   },
   "outputs": [
    {
     "name": "stdout",
     "output_type": "stream",
     "text": [
      "Deleted branch branch2 (was cd5b3b9).\n",
      "* branch1\n",
      "  master\n",
      "  remotes/origin/HEAD -> origin/master\n",
      "  remotes/origin/branch1\n",
      "  remotes/origin/branch2\n",
      "  remotes/origin/master\n"
     ]
    },
    {
     "name": "stderr",
     "output_type": "stream",
     "text": [
      "To https://github.com/Richardfuste/test.git\n",
      " - [deleted]         branch2\n"
     ]
    },
    {
     "name": "stdout",
     "output_type": "stream",
     "text": [
      "* branch1\n",
      "  master\n",
      "  remotes/origin/HEAD -> origin/master\n",
      "  remotes/origin/branch1\n",
      "  remotes/origin/master\n"
     ]
    }
   ],
   "source": [
    "#删除本地分支\n",
    "! git branch -d branch2\n",
    "\n",
    "! git branch -a\n",
    "#删除远程分支\n",
    "! git push origin --delete branch2\n",
    "\n",
    "! git branch -a"
   ]
  },
  {
   "cell_type": "code",
   "execution_count": 12,
   "metadata": {
    "vscode": {
     "languageId": "shellscript"
    }
   },
   "outputs": [
    {
     "name": "stdout",
     "output_type": "stream",
     "text": [
      "origin\thttps://github.com/Richardfuste/test.git (fetch)\n",
      "origin\thttps://github.com/Richardfuste/test.git (push)\n",
      "origin1\thttps://github.com/Richardfuste/project.git (fetch)\n",
      "origin1\thttps://github.com/Richardfuste/project.git (push)\n"
     ]
    },
    {
     "name": "stderr",
     "output_type": "stream",
     "text": [
      "error: remote origin1 already exists.\n"
     ]
    },
    {
     "name": "stdout",
     "output_type": "stream",
     "text": [
      "* branch1\n",
      "  master\n",
      "  remotes/origin/HEAD -> origin/master\n",
      "  remotes/origin/branch1\n",
      "  remotes/origin/master\n",
      "  remotes/origin1/branch1\n"
     ]
    },
    {
     "name": "stderr",
     "output_type": "stream",
     "text": [
      "error: pathspec 'push to origin!' did not match any file(s) known to git\n",
      "Everything up-to-date\n"
     ]
    },
    {
     "name": "stdout",
     "output_type": "stream",
     "text": [
      "* branch1\n",
      "  master\n",
      "  remotes/origin/HEAD -> origin/master\n",
      "  remotes/origin/branch1\n",
      "  remotes/origin/master\n",
      "  remotes/origin1/branch1\n"
     ]
    }
   ],
   "source": [
    "# 查看远程仓库的详细信息\n",
    "! git remote -v\n",
    "# 添加远程仓库\n",
    "! git remote add origin1 https://github.com/Richardfuste/project.git\n",
    "\n",
    "! git branch -a\n",
    "! git commit \"push to origin!\"\n",
    "! git push origin1 \n",
    "! git branch -a"
   ]
  },
  {
   "cell_type": "code",
   "execution_count": 19,
   "metadata": {
    "vscode": {
     "languageId": "shellscript"
    }
   },
   "outputs": [
    {
     "name": "stdout",
     "output_type": "stream",
     "text": [
      "* branch1\n",
      "  master\n",
      "  remotes/origin/HEAD -> origin/master\n",
      "  remotes/origin/branch1\n",
      "  remotes/origin/main\n",
      "  remotes/origin/master\n",
      "  remotes/origin1/branch1\n"
     ]
    },
    {
     "name": "stderr",
     "output_type": "stream",
     "text": [
      "From https://github.com/Richardfuste/test\n",
      " * branch            main       -> FETCH_HEAD\n"
     ]
    }
   ],
   "source": [
    "\n",
    "# 这个命令用于从远程仓库获取最新的更改，\n",
    "# 但是不会自动合并到你的当前分支。\n",
    "# 这意味着你可以在获取了最新的更改后，\n",
    "# 自己决定是否要合并这些更改。\n",
    "! git branch -a\n",
    "! git fetch origin main\n",
    "# 这个命令用于将两个或更多的开发历史合并到一起。\n",
    "# 你可以使用这个命令将你从远程仓库获取的更改合并到你的当前分支\n",
    "#git merge \n",
    "\n",
    "# git pull = git fetch + git merge\n"
   ]
  }
 ],
 "metadata": {
  "kernelspec": {
   "display_name": "base",
   "language": "python",
   "name": "python3"
  },
  "language_info": {
   "codemirror_mode": {
    "name": "ipython",
    "version": 3
   },
   "file_extension": ".py",
   "mimetype": "text/x-python",
   "name": "python",
   "nbconvert_exporter": "python",
   "pygments_lexer": "ipython3",
   "version": "3.9.19"
  }
 },
 "nbformat": 4,
 "nbformat_minor": 2
}
